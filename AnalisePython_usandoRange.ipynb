{
 "cells": [
  {
   "cell_type": "markdown",
   "id": "0ac77436",
   "metadata": {},
   "source": [
    "# Para a P1 deve ser entregue:\n",
    "\n",
    "\n",
    "# o base de dados (em Excel, Stata ou assemelhado);\n",
    "\n",
    "o do file de Stata ou similar; e,\n",
    "o PDF da apresentação com +/- 20 slides.\n",
    "\n",
    "Na apresentação, de cerca de 30 minutos, os alunos devem ter:\n",
    "\n",
    "uma introdução ao tema analisado, explicando porque se interessou pelo assunto\n",
    "e qual a relevância disso;\n",
    "\n",
    "uma pequena revisão de Google Scholar sobre o tema;\n",
    "\n",
    "# explicação de como a base de dados foi montada;\n",
    " \n",
    "# análise descritiva dos dados;\n",
    "\n",
    "# ideia de modelo econométrico a ser aplicado."
   ]
  },
  {
   "cell_type": "code",
   "execution_count": 4,
   "id": "3e108449",
   "metadata": {},
   "outputs": [],
   "source": [
    "# Importando bibliotecas\n",
    "import numpy as np\n",
    "import pandas as pd\n",
    "import statsmodels.api as sm\n",
    "from sklearn.linear_model import LogisticRegression\n",
    "from sklearn.model_selection import train_test_split\n",
    "from sklearn.metrics import classification_report"
   ]
  },
  {
   "cell_type": "code",
   "execution_count": 5,
   "id": "2041d96e",
   "metadata": {
    "scrolled": false
   },
   "outputs": [
    {
     "data": {
      "text/html": [
       "<div>\n",
       "<style scoped>\n",
       "    .dataframe tbody tr th:only-of-type {\n",
       "        vertical-align: middle;\n",
       "    }\n",
       "\n",
       "    .dataframe tbody tr th {\n",
       "        vertical-align: top;\n",
       "    }\n",
       "\n",
       "    .dataframe thead th {\n",
       "        text-align: right;\n",
       "    }\n",
       "</style>\n",
       "<table border=\"1\" class=\"dataframe\">\n",
       "  <thead>\n",
       "    <tr style=\"text-align: right;\">\n",
       "      <th></th>\n",
       "      <th>Ano</th>\n",
       "      <th>UF do Produto</th>\n",
       "      <th>Código CGCE Nível 1</th>\n",
       "      <th>Descrição CGCE Nível 1</th>\n",
       "      <th>Valor FOB (US$)</th>\n",
       "    </tr>\n",
       "  </thead>\n",
       "  <tbody>\n",
       "    <tr>\n",
       "      <th>0</th>\n",
       "      <td>2021</td>\n",
       "      <td>São Paulo</td>\n",
       "      <td>1</td>\n",
       "      <td>BENS DE CAPITAL (BK)</td>\n",
       "      <td>7824989182</td>\n",
       "    </tr>\n",
       "    <tr>\n",
       "      <th>1</th>\n",
       "      <td>2021</td>\n",
       "      <td>Rio Grande do Sul</td>\n",
       "      <td>1</td>\n",
       "      <td>BENS DE CAPITAL (BK)</td>\n",
       "      <td>1210896309</td>\n",
       "    </tr>\n",
       "    <tr>\n",
       "      <th>2</th>\n",
       "      <td>2021</td>\n",
       "      <td>Paraná</td>\n",
       "      <td>1</td>\n",
       "      <td>BENS DE CAPITAL (BK)</td>\n",
       "      <td>1034504712</td>\n",
       "    </tr>\n",
       "    <tr>\n",
       "      <th>3</th>\n",
       "      <td>2021</td>\n",
       "      <td>Santa Catarina</td>\n",
       "      <td>1</td>\n",
       "      <td>BENS DE CAPITAL (BK)</td>\n",
       "      <td>962705795</td>\n",
       "    </tr>\n",
       "    <tr>\n",
       "      <th>4</th>\n",
       "      <td>2021</td>\n",
       "      <td>Minas Gerais</td>\n",
       "      <td>1</td>\n",
       "      <td>BENS DE CAPITAL (BK)</td>\n",
       "      <td>629451937</td>\n",
       "    </tr>\n",
       "    <tr>\n",
       "      <th>...</th>\n",
       "      <td>...</td>\n",
       "      <td>...</td>\n",
       "      <td>...</td>\n",
       "      <td>...</td>\n",
       "      <td>...</td>\n",
       "    </tr>\n",
       "    <tr>\n",
       "      <th>254</th>\n",
       "      <td>2012</td>\n",
       "      <td>Paraíba</td>\n",
       "      <td>1</td>\n",
       "      <td>BENS DE CAPITAL (BK)</td>\n",
       "      <td>117336</td>\n",
       "    </tr>\n",
       "    <tr>\n",
       "      <th>255</th>\n",
       "      <td>2012</td>\n",
       "      <td>Roraima</td>\n",
       "      <td>1</td>\n",
       "      <td>BENS DE CAPITAL (BK)</td>\n",
       "      <td>62169</td>\n",
       "    </tr>\n",
       "    <tr>\n",
       "      <th>256</th>\n",
       "      <td>2012</td>\n",
       "      <td>Acre</td>\n",
       "      <td>1</td>\n",
       "      <td>BENS DE CAPITAL (BK)</td>\n",
       "      <td>25939</td>\n",
       "    </tr>\n",
       "    <tr>\n",
       "      <th>257</th>\n",
       "      <td>2012</td>\n",
       "      <td>Maranhão</td>\n",
       "      <td>1</td>\n",
       "      <td>BENS DE CAPITAL (BK)</td>\n",
       "      <td>3401</td>\n",
       "    </tr>\n",
       "    <tr>\n",
       "      <th>258</th>\n",
       "      <td>2012</td>\n",
       "      <td>Piauí</td>\n",
       "      <td>1</td>\n",
       "      <td>BENS DE CAPITAL (BK)</td>\n",
       "      <td>334</td>\n",
       "    </tr>\n",
       "  </tbody>\n",
       "</table>\n",
       "<p>259 rows × 5 columns</p>\n",
       "</div>"
      ],
      "text/plain": [
       "      Ano      UF do Produto  Código CGCE Nível 1 Descrição CGCE Nível 1  \\\n",
       "0    2021          São Paulo                    1   BENS DE CAPITAL (BK)   \n",
       "1    2021  Rio Grande do Sul                    1   BENS DE CAPITAL (BK)   \n",
       "2    2021             Paraná                    1   BENS DE CAPITAL (BK)   \n",
       "3    2021     Santa Catarina                    1   BENS DE CAPITAL (BK)   \n",
       "4    2021       Minas Gerais                    1   BENS DE CAPITAL (BK)   \n",
       "..    ...                ...                  ...                    ...   \n",
       "254  2012            Paraíba                    1   BENS DE CAPITAL (BK)   \n",
       "255  2012            Roraima                    1   BENS DE CAPITAL (BK)   \n",
       "256  2012               Acre                    1   BENS DE CAPITAL (BK)   \n",
       "257  2012           Maranhão                    1   BENS DE CAPITAL (BK)   \n",
       "258  2012              Piauí                    1   BENS DE CAPITAL (BK)   \n",
       "\n",
       "     Valor FOB (US$)  \n",
       "0         7824989182  \n",
       "1         1210896309  \n",
       "2         1034504712  \n",
       "3          962705795  \n",
       "4          629451937  \n",
       "..               ...  \n",
       "254           117336  \n",
       "255            62169  \n",
       "256            25939  \n",
       "257             3401  \n",
       "258              334  \n",
       "\n",
       "[259 rows x 5 columns]"
      ]
     },
     "metadata": {},
     "output_type": "display_data"
    }
   ],
   "source": [
    "#carregar dados exportações\n",
    "dataexpo=pd.read_excel(\"expo3.xlsx\")\n",
    "\n",
    "# Visualizar os nomes das colunas separadas\n",
    "display(dataexpo)\n",
    "\n"
   ]
  },
  {
   "cell_type": "code",
   "execution_count": 6,
   "id": "20dd4b9a",
   "metadata": {
    "scrolled": false
   },
   "outputs": [
    {
     "data": {
      "text/html": [
       "<div>\n",
       "<style scoped>\n",
       "    .dataframe tbody tr th:only-of-type {\n",
       "        vertical-align: middle;\n",
       "    }\n",
       "\n",
       "    .dataframe tbody tr th {\n",
       "        vertical-align: top;\n",
       "    }\n",
       "\n",
       "    .dataframe thead th {\n",
       "        text-align: right;\n",
       "    }\n",
       "</style>\n",
       "<table border=\"1\" class=\"dataframe\">\n",
       "  <thead>\n",
       "    <tr style=\"text-align: right;\">\n",
       "      <th></th>\n",
       "      <th>Ano</th>\n",
       "      <th>UF do Produto</th>\n",
       "      <th>Valor FOB (US$)</th>\n",
       "    </tr>\n",
       "  </thead>\n",
       "  <tbody>\n",
       "    <tr>\n",
       "      <th>0</th>\n",
       "      <td>2021</td>\n",
       "      <td>São Paulo</td>\n",
       "      <td>7824989182</td>\n",
       "    </tr>\n",
       "    <tr>\n",
       "      <th>1</th>\n",
       "      <td>2021</td>\n",
       "      <td>Rio Grande do Sul</td>\n",
       "      <td>1210896309</td>\n",
       "    </tr>\n",
       "    <tr>\n",
       "      <th>2</th>\n",
       "      <td>2021</td>\n",
       "      <td>Paraná</td>\n",
       "      <td>1034504712</td>\n",
       "    </tr>\n",
       "    <tr>\n",
       "      <th>3</th>\n",
       "      <td>2021</td>\n",
       "      <td>Santa Catarina</td>\n",
       "      <td>962705795</td>\n",
       "    </tr>\n",
       "    <tr>\n",
       "      <th>4</th>\n",
       "      <td>2021</td>\n",
       "      <td>Minas Gerais</td>\n",
       "      <td>629451937</td>\n",
       "    </tr>\n",
       "    <tr>\n",
       "      <th>...</th>\n",
       "      <td>...</td>\n",
       "      <td>...</td>\n",
       "      <td>...</td>\n",
       "    </tr>\n",
       "    <tr>\n",
       "      <th>254</th>\n",
       "      <td>2012</td>\n",
       "      <td>Paraíba</td>\n",
       "      <td>117336</td>\n",
       "    </tr>\n",
       "    <tr>\n",
       "      <th>255</th>\n",
       "      <td>2012</td>\n",
       "      <td>Roraima</td>\n",
       "      <td>62169</td>\n",
       "    </tr>\n",
       "    <tr>\n",
       "      <th>256</th>\n",
       "      <td>2012</td>\n",
       "      <td>Acre</td>\n",
       "      <td>25939</td>\n",
       "    </tr>\n",
       "    <tr>\n",
       "      <th>257</th>\n",
       "      <td>2012</td>\n",
       "      <td>Maranhão</td>\n",
       "      <td>3401</td>\n",
       "    </tr>\n",
       "    <tr>\n",
       "      <th>258</th>\n",
       "      <td>2012</td>\n",
       "      <td>Piauí</td>\n",
       "      <td>334</td>\n",
       "    </tr>\n",
       "  </tbody>\n",
       "</table>\n",
       "<p>259 rows × 3 columns</p>\n",
       "</div>"
      ],
      "text/plain": [
       "      Ano      UF do Produto  Valor FOB (US$)\n",
       "0    2021          São Paulo       7824989182\n",
       "1    2021  Rio Grande do Sul       1210896309\n",
       "2    2021             Paraná       1034504712\n",
       "3    2021     Santa Catarina        962705795\n",
       "4    2021       Minas Gerais        629451937\n",
       "..    ...                ...              ...\n",
       "254  2012            Paraíba           117336\n",
       "255  2012            Roraima            62169\n",
       "256  2012               Acre            25939\n",
       "257  2012           Maranhão             3401\n",
       "258  2012              Piauí              334\n",
       "\n",
       "[259 rows x 3 columns]"
      ]
     },
     "metadata": {},
     "output_type": "display_data"
    }
   ],
   "source": [
    "colunas_para_manter=['Ano','UF do Produto','Valor FOB (US$)']\n",
    "dataexpo=dataexpo[colunas_para_manter]\n",
    "display(dataexpo)"
   ]
  },
  {
   "cell_type": "code",
   "execution_count": 7,
   "id": "d522b50b",
   "metadata": {
    "scrolled": true
   },
   "outputs": [
    {
     "data": {
      "text/html": [
       "<div>\n",
       "<style scoped>\n",
       "    .dataframe tbody tr th:only-of-type {\n",
       "        vertical-align: middle;\n",
       "    }\n",
       "\n",
       "    .dataframe tbody tr th {\n",
       "        vertical-align: top;\n",
       "    }\n",
       "\n",
       "    .dataframe thead th {\n",
       "        text-align: right;\n",
       "    }\n",
       "</style>\n",
       "<table border=\"1\" class=\"dataframe\">\n",
       "  <thead>\n",
       "    <tr style=\"text-align: right;\">\n",
       "      <th></th>\n",
       "      <th>UF</th>\n",
       "      <th>Range</th>\n",
       "      <th>Ano</th>\n",
       "    </tr>\n",
       "  </thead>\n",
       "  <tbody>\n",
       "    <tr>\n",
       "      <th>0</th>\n",
       "      <td>Acre</td>\n",
       "      <td>1</td>\n",
       "      <td>2012</td>\n",
       "    </tr>\n",
       "    <tr>\n",
       "      <th>1</th>\n",
       "      <td>Alagoas</td>\n",
       "      <td>1</td>\n",
       "      <td>2012</td>\n",
       "    </tr>\n",
       "    <tr>\n",
       "      <th>2</th>\n",
       "      <td>Amapá</td>\n",
       "      <td>1</td>\n",
       "      <td>2012</td>\n",
       "    </tr>\n",
       "    <tr>\n",
       "      <th>3</th>\n",
       "      <td>Amazonas</td>\n",
       "      <td>1</td>\n",
       "      <td>2012</td>\n",
       "    </tr>\n",
       "    <tr>\n",
       "      <th>4</th>\n",
       "      <td>Bahia</td>\n",
       "      <td>1</td>\n",
       "      <td>2012</td>\n",
       "    </tr>\n",
       "    <tr>\n",
       "      <th>...</th>\n",
       "      <td>...</td>\n",
       "      <td>...</td>\n",
       "      <td>...</td>\n",
       "    </tr>\n",
       "    <tr>\n",
       "      <th>265</th>\n",
       "      <td>Roraima</td>\n",
       "      <td>1</td>\n",
       "      <td>2021</td>\n",
       "    </tr>\n",
       "    <tr>\n",
       "      <th>266</th>\n",
       "      <td>Santa Catarina</td>\n",
       "      <td>2</td>\n",
       "      <td>2021</td>\n",
       "    </tr>\n",
       "    <tr>\n",
       "      <th>267</th>\n",
       "      <td>São Paulo</td>\n",
       "      <td>2</td>\n",
       "      <td>2021</td>\n",
       "    </tr>\n",
       "    <tr>\n",
       "      <th>268</th>\n",
       "      <td>Sergipe</td>\n",
       "      <td>1</td>\n",
       "      <td>2021</td>\n",
       "    </tr>\n",
       "    <tr>\n",
       "      <th>269</th>\n",
       "      <td>Tocantins</td>\n",
       "      <td>2</td>\n",
       "      <td>2021</td>\n",
       "    </tr>\n",
       "  </tbody>\n",
       "</table>\n",
       "<p>270 rows × 3 columns</p>\n",
       "</div>"
      ],
      "text/plain": [
       "                 UF  Range   Ano\n",
       "0              Acre      1  2012\n",
       "1           Alagoas      1  2012\n",
       "2             Amapá      1  2012\n",
       "3          Amazonas      1  2012\n",
       "4             Bahia      1  2012\n",
       "..              ...    ...   ...\n",
       "265         Roraima      1  2021\n",
       "266  Santa Catarina      2  2021\n",
       "267       São Paulo      2  2021\n",
       "268         Sergipe      1  2021\n",
       "269       Tocantins      2  2021\n",
       "\n",
       "[270 rows x 3 columns]"
      ]
     },
     "metadata": {},
     "output_type": "display_data"
    }
   ],
   "source": [
    "#carregar dados IDHM\n",
    "idhm=pd.read_excel(\"IDHMajustado2012_2021.xlsx\")\n",
    "\n",
    "#limpar colunas em branco\n",
    "colunas_para_manter = ['UF', 'Range', 'Ano']\n",
    "idhm = idhm[colunas_para_manter]\n",
    "\n",
    "display(idhm)"
   ]
  },
  {
   "cell_type": "code",
   "execution_count": 8,
   "id": "11469d41",
   "metadata": {
    "scrolled": true
   },
   "outputs": [
    {
     "data": {
      "text/html": [
       "<div>\n",
       "<style scoped>\n",
       "    .dataframe tbody tr th:only-of-type {\n",
       "        vertical-align: middle;\n",
       "    }\n",
       "\n",
       "    .dataframe tbody tr th {\n",
       "        vertical-align: top;\n",
       "    }\n",
       "\n",
       "    .dataframe thead th {\n",
       "        text-align: right;\n",
       "    }\n",
       "</style>\n",
       "<table border=\"1\" class=\"dataframe\">\n",
       "  <thead>\n",
       "    <tr style=\"text-align: right;\">\n",
       "      <th></th>\n",
       "      <th>Ano</th>\n",
       "      <th>UF do Produto</th>\n",
       "      <th>Valor FOB (US$)</th>\n",
       "      <th>UF</th>\n",
       "      <th>Range</th>\n",
       "    </tr>\n",
       "  </thead>\n",
       "  <tbody>\n",
       "    <tr>\n",
       "      <th>0</th>\n",
       "      <td>2021</td>\n",
       "      <td>São Paulo</td>\n",
       "      <td>7824989182</td>\n",
       "      <td>São Paulo</td>\n",
       "      <td>2</td>\n",
       "    </tr>\n",
       "    <tr>\n",
       "      <th>1</th>\n",
       "      <td>2021</td>\n",
       "      <td>Rio Grande do Sul</td>\n",
       "      <td>1210896309</td>\n",
       "      <td>Rio Grande do Sul</td>\n",
       "      <td>2</td>\n",
       "    </tr>\n",
       "    <tr>\n",
       "      <th>2</th>\n",
       "      <td>2021</td>\n",
       "      <td>Paraná</td>\n",
       "      <td>1034504712</td>\n",
       "      <td>Paraná</td>\n",
       "      <td>2</td>\n",
       "    </tr>\n",
       "    <tr>\n",
       "      <th>3</th>\n",
       "      <td>2021</td>\n",
       "      <td>Santa Catarina</td>\n",
       "      <td>962705795</td>\n",
       "      <td>Santa Catarina</td>\n",
       "      <td>2</td>\n",
       "    </tr>\n",
       "    <tr>\n",
       "      <th>4</th>\n",
       "      <td>2021</td>\n",
       "      <td>Minas Gerais</td>\n",
       "      <td>629451937</td>\n",
       "      <td>Minas Gerais</td>\n",
       "      <td>2</td>\n",
       "    </tr>\n",
       "    <tr>\n",
       "      <th>...</th>\n",
       "      <td>...</td>\n",
       "      <td>...</td>\n",
       "      <td>...</td>\n",
       "      <td>...</td>\n",
       "      <td>...</td>\n",
       "    </tr>\n",
       "    <tr>\n",
       "      <th>254</th>\n",
       "      <td>2012</td>\n",
       "      <td>Paraíba</td>\n",
       "      <td>117336</td>\n",
       "      <td>Paraíba</td>\n",
       "      <td>1</td>\n",
       "    </tr>\n",
       "    <tr>\n",
       "      <th>255</th>\n",
       "      <td>2012</td>\n",
       "      <td>Roraima</td>\n",
       "      <td>62169</td>\n",
       "      <td>Roraima</td>\n",
       "      <td>2</td>\n",
       "    </tr>\n",
       "    <tr>\n",
       "      <th>256</th>\n",
       "      <td>2012</td>\n",
       "      <td>Acre</td>\n",
       "      <td>25939</td>\n",
       "      <td>Acre</td>\n",
       "      <td>1</td>\n",
       "    </tr>\n",
       "    <tr>\n",
       "      <th>257</th>\n",
       "      <td>2012</td>\n",
       "      <td>Maranhão</td>\n",
       "      <td>3401</td>\n",
       "      <td>Maranhão</td>\n",
       "      <td>1</td>\n",
       "    </tr>\n",
       "    <tr>\n",
       "      <th>258</th>\n",
       "      <td>2012</td>\n",
       "      <td>Piauí</td>\n",
       "      <td>334</td>\n",
       "      <td>Piauí</td>\n",
       "      <td>1</td>\n",
       "    </tr>\n",
       "  </tbody>\n",
       "</table>\n",
       "<p>259 rows × 5 columns</p>\n",
       "</div>"
      ],
      "text/plain": [
       "      Ano      UF do Produto  Valor FOB (US$)                 UF  Range\n",
       "0    2021          São Paulo       7824989182          São Paulo      2\n",
       "1    2021  Rio Grande do Sul       1210896309  Rio Grande do Sul      2\n",
       "2    2021             Paraná       1034504712             Paraná      2\n",
       "3    2021     Santa Catarina        962705795     Santa Catarina      2\n",
       "4    2021       Minas Gerais        629451937       Minas Gerais      2\n",
       "..    ...                ...              ...                ...    ...\n",
       "254  2012            Paraíba           117336            Paraíba      1\n",
       "255  2012            Roraima            62169            Roraima      2\n",
       "256  2012               Acre            25939               Acre      1\n",
       "257  2012           Maranhão             3401           Maranhão      1\n",
       "258  2012              Piauí              334              Piauí      1\n",
       "\n",
       "[259 rows x 5 columns]"
      ]
     },
     "metadata": {},
     "output_type": "display_data"
    }
   ],
   "source": [
    "# Combinar as DataFrames com base nas colunas em comum\n",
    "merged_data = pd.merge(dataexpo, idhm, left_on=['UF do Produto','Ano'], right_on=['UF','Ano'])\n",
    "\n",
    "display(merged_data)"
   ]
  },
  {
   "cell_type": "code",
   "execution_count": 9,
   "id": "2cf534df",
   "metadata": {},
   "outputs": [
    {
     "data": {
      "text/html": [
       "<div>\n",
       "<style scoped>\n",
       "    .dataframe tbody tr th:only-of-type {\n",
       "        vertical-align: middle;\n",
       "    }\n",
       "\n",
       "    .dataframe tbody tr th {\n",
       "        vertical-align: top;\n",
       "    }\n",
       "\n",
       "    .dataframe thead th {\n",
       "        text-align: right;\n",
       "    }\n",
       "</style>\n",
       "<table border=\"1\" class=\"dataframe\">\n",
       "  <thead>\n",
       "    <tr style=\"text-align: right;\">\n",
       "      <th></th>\n",
       "      <th>Ano</th>\n",
       "      <th>Valor FOB (US$)</th>\n",
       "      <th>Range</th>\n",
       "    </tr>\n",
       "  </thead>\n",
       "  <tbody>\n",
       "    <tr>\n",
       "      <th>count</th>\n",
       "      <td>259.000000</td>\n",
       "      <td>2.590000e+02</td>\n",
       "      <td>259.000000</td>\n",
       "    </tr>\n",
       "    <tr>\n",
       "      <th>mean</th>\n",
       "      <td>2016.571429</td>\n",
       "      <td>5.306295e+08</td>\n",
       "      <td>1.532819</td>\n",
       "    </tr>\n",
       "    <tr>\n",
       "      <th>std</th>\n",
       "      <td>2.885025</td>\n",
       "      <td>1.779754e+09</td>\n",
       "      <td>0.507582</td>\n",
       "    </tr>\n",
       "    <tr>\n",
       "      <th>min</th>\n",
       "      <td>2012.000000</td>\n",
       "      <td>6.600000e+01</td>\n",
       "      <td>1.000000</td>\n",
       "    </tr>\n",
       "    <tr>\n",
       "      <th>25%</th>\n",
       "      <td>2014.000000</td>\n",
       "      <td>4.349680e+05</td>\n",
       "      <td>1.000000</td>\n",
       "    </tr>\n",
       "    <tr>\n",
       "      <th>50%</th>\n",
       "      <td>2017.000000</td>\n",
       "      <td>8.231152e+06</td>\n",
       "      <td>2.000000</td>\n",
       "    </tr>\n",
       "    <tr>\n",
       "      <th>75%</th>\n",
       "      <td>2019.000000</td>\n",
       "      <td>2.182145e+08</td>\n",
       "      <td>2.000000</td>\n",
       "    </tr>\n",
       "    <tr>\n",
       "      <th>max</th>\n",
       "      <td>2021.000000</td>\n",
       "      <td>1.153041e+10</td>\n",
       "      <td>3.000000</td>\n",
       "    </tr>\n",
       "  </tbody>\n",
       "</table>\n",
       "</div>"
      ],
      "text/plain": [
       "               Ano  Valor FOB (US$)       Range\n",
       "count   259.000000     2.590000e+02  259.000000\n",
       "mean   2016.571429     5.306295e+08    1.532819\n",
       "std       2.885025     1.779754e+09    0.507582\n",
       "min    2012.000000     6.600000e+01    1.000000\n",
       "25%    2014.000000     4.349680e+05    1.000000\n",
       "50%    2017.000000     8.231152e+06    2.000000\n",
       "75%    2019.000000     2.182145e+08    2.000000\n",
       "max    2021.000000     1.153041e+10    3.000000"
      ]
     },
     "metadata": {},
     "output_type": "display_data"
    }
   ],
   "source": [
    "resumo_estatistico = merged_data.describe()\n",
    "display(resumo_estatistico)"
   ]
  },
  {
   "cell_type": "code",
   "execution_count": 10,
   "id": "4a86dab3",
   "metadata": {
    "scrolled": true
   },
   "outputs": [
    {
     "name": "stdout",
     "output_type": "stream",
     "text": [
      "              precision    recall  f1-score   support\n",
      "\n",
      "           1       0.00      0.00      0.00        25\n",
      "           2       0.52      1.00      0.68        27\n",
      "\n",
      "    accuracy                           0.52        52\n",
      "   macro avg       0.26      0.50      0.34        52\n",
      "weighted avg       0.27      0.52      0.35        52\n",
      "\n"
     ]
    },
    {
     "name": "stderr",
     "output_type": "stream",
     "text": [
      "C:\\Users\\nunes\\anaconda3\\lib\\site-packages\\sklearn\\metrics\\_classification.py:1344: UndefinedMetricWarning: Precision and F-score are ill-defined and being set to 0.0 in labels with no predicted samples. Use `zero_division` parameter to control this behavior.\n",
      "  _warn_prf(average, modifier, msg_start, len(result))\n",
      "C:\\Users\\nunes\\anaconda3\\lib\\site-packages\\sklearn\\metrics\\_classification.py:1344: UndefinedMetricWarning: Precision and F-score are ill-defined and being set to 0.0 in labels with no predicted samples. Use `zero_division` parameter to control this behavior.\n",
      "  _warn_prf(average, modifier, msg_start, len(result))\n",
      "C:\\Users\\nunes\\anaconda3\\lib\\site-packages\\sklearn\\metrics\\_classification.py:1344: UndefinedMetricWarning: Precision and F-score are ill-defined and being set to 0.0 in labels with no predicted samples. Use `zero_division` parameter to control this behavior.\n",
      "  _warn_prf(average, modifier, msg_start, len(result))\n"
     ]
    }
   ],
   "source": [
    "# Definir as variáveis independentes (features) e a variável dependente (target)\n",
    "X = merged_data[['Valor FOB (US$)', 'Ano']]\n",
    "y = merged_data['Range']\n",
    "\n",
    "# Dividir os dados em treinamento e teste\n",
    "X_train, X_test, y_train, y_test = train_test_split(X, y, test_size=0.2, random_state=42)\n",
    "\n",
    "# Instanciar o modelo de regressão logística\n",
    "logreg = LogisticRegression()\n",
    "\n",
    "# Treinar o modelo usando os dados de treinamento\n",
    "logreg.fit(X_train, y_train)\n",
    "\n",
    "# Fazer previsões usando os dados de teste\n",
    "y_pred = logreg.predict(X_test)\n",
    "\n",
    "# Avaliar o desempenho do modelo\n",
    "print(classification_report(y_test, y_pred))"
   ]
  },
  {
   "cell_type": "code",
   "execution_count": 11,
   "id": "4f27319e",
   "metadata": {
    "scrolled": true
   },
   "outputs": [
    {
     "name": "stdout",
     "output_type": "stream",
     "text": [
      "Requirement already satisfied: mlxtend in c:\\users\\nunes\\anaconda3\\lib\\site-packages (0.22.0)\n",
      "Requirement already satisfied: setuptools in c:\\users\\nunes\\anaconda3\\lib\\site-packages (from mlxtend) (58.0.4)\n",
      "Requirement already satisfied: scipy>=1.2.1 in c:\\users\\nunes\\anaconda3\\lib\\site-packages (from mlxtend) (1.7.1)\n",
      "Requirement already satisfied: joblib>=0.13.2 in c:\\users\\nunes\\anaconda3\\lib\\site-packages (from mlxtend) (1.2.0)\n",
      "Requirement already satisfied: numpy>=1.16.2 in c:\\users\\nunes\\anaconda3\\lib\\site-packages (from mlxtend) (1.20.3)\n",
      "Requirement already satisfied: pandas>=0.24.2 in c:\\users\\nunes\\anaconda3\\lib\\site-packages (from mlxtend) (1.3.4)\n",
      "Requirement already satisfied: matplotlib>=3.0.0 in c:\\users\\nunes\\anaconda3\\lib\\site-packages (from mlxtend) (3.4.3)\n",
      "Requirement already satisfied: scikit-learn>=1.0.2 in c:\\users\\nunes\\anaconda3\\lib\\site-packages (from mlxtend) (1.2.2)\n",
      "Requirement already satisfied: cycler>=0.10 in c:\\users\\nunes\\anaconda3\\lib\\site-packages (from matplotlib>=3.0.0->mlxtend) (0.10.0)\n",
      "Requirement already satisfied: kiwisolver>=1.0.1 in c:\\users\\nunes\\anaconda3\\lib\\site-packages (from matplotlib>=3.0.0->mlxtend) (1.3.1)\n",
      "Requirement already satisfied: pyparsing>=2.2.1 in c:\\users\\nunes\\anaconda3\\lib\\site-packages (from matplotlib>=3.0.0->mlxtend) (3.0.4)\n",
      "Requirement already satisfied: python-dateutil>=2.7 in c:\\users\\nunes\\anaconda3\\lib\\site-packages (from matplotlib>=3.0.0->mlxtend) (2.8.2)\n",
      "Requirement already satisfied: pillow>=6.2.0 in c:\\users\\nunes\\anaconda3\\lib\\site-packages (from matplotlib>=3.0.0->mlxtend) (8.4.0)\n",
      "Requirement already satisfied: six in c:\\users\\nunes\\anaconda3\\lib\\site-packages (from cycler>=0.10->matplotlib>=3.0.0->mlxtend) (1.16.0)\n",
      "Requirement already satisfied: pytz>=2017.3 in c:\\users\\nunes\\anaconda3\\lib\\site-packages (from pandas>=0.24.2->mlxtend) (2021.3)\n",
      "Requirement already satisfied: threadpoolctl>=2.0.0 in c:\\users\\nunes\\anaconda3\\lib\\site-packages (from scikit-learn>=1.0.2->mlxtend) (2.2.0)\n"
     ]
    },
    {
     "name": "stderr",
     "output_type": "stream",
     "text": [
      "C:\\Users\\nunes\\anaconda3\\lib\\site-packages\\mlxtend\\plotting\\decision_regions.py:315: UserWarning: No contour levels were found within the data range.\n",
      "  ax.contour(xx, yy, Z, cset.levels, **contour_kwargs)\n"
     ]
    },
    {
     "data": {
      "image/png": "[encoded data removed]",
      "text/plain": [
       "<Figure size 432x288 with 1 Axes>"
      ]
     },
     "metadata": {
      "needs_background": "light"
     },
     "output_type": "display_data"
    }
   ],
   "source": [
    "import sys\n",
    "!{sys.executable} -m pip install mlxtend\n",
    "import numpy as np\n",
    "import matplotlib.pyplot as plt\n",
    "from mlxtend.plotting import plot_decision_regions\n",
    "\n",
    "# Definir as variáveis independentes (features) e a variável dependente (target)\n",
    "X = merged_data[['Valor FOB (US$)', 'Ano']].values\n",
    "y = merged_data['Range'].values\n",
    "\n",
    "# Instanciar o modelo de regressão logística\n",
    "logreg = LogisticRegression()\n",
    "\n",
    "# Treinar o modelo\n",
    "logreg.fit(X, y)\n",
    "\n",
    "# Plotar a regressão logística\n",
    "plot_decision_regions(X, y, clf=logreg)\n",
    "\n",
    "# Definir os limites dos eixos X e Y\n",
    "plt.xlim(X[:, 0].min() - 2.0, X[:, 0].max() + 2.0)\n",
    "plt.ylim(X[:, 1].min() - 2.0, X[:, 1].max() + 2.0)\n",
    "\n",
    "# Adicionar rótulos aos eixos X e Y\n",
    "plt.xlabel('Valor FOB (US$)')\n",
    "plt.ylabel('Ano')\n",
    "\n",
    "# Mostrar o gráfico\n",
    "plt.show(logreg)"
   ]
  },
  {
   "cell_type": "code",
   "execution_count": 12,
   "id": "adae9aef",
   "metadata": {},
   "outputs": [
    {
     "name": "stdout",
     "output_type": "stream",
     "text": [
      "Requirement already satisfied: mlxtend in c:\\users\\nunes\\anaconda3\\lib\\site-packages (0.22.0)\n",
      "Requirement already satisfied: pandas>=0.24.2 in c:\\users\\nunes\\anaconda3\\lib\\site-packages (from mlxtend) (1.3.4)\n",
      "Requirement already satisfied: setuptools in c:\\users\\nunes\\anaconda3\\lib\\site-packages (from mlxtend) (58.0.4)\n",
      "Requirement already satisfied: numpy>=1.16.2 in c:\\users\\nunes\\anaconda3\\lib\\site-packages (from mlxtend) (1.20.3)\n",
      "Requirement already satisfied: scipy>=1.2.1 in c:\\users\\nunes\\anaconda3\\lib\\site-packages (from mlxtend) (1.7.1)\n",
      "Requirement already satisfied: matplotlib>=3.0.0 in c:\\users\\nunes\\anaconda3\\lib\\site-packages (from mlxtend) (3.4.3)\n",
      "Requirement already satisfied: joblib>=0.13.2 in c:\\users\\nunes\\anaconda3\\lib\\site-packages (from mlxtend) (1.2.0)\n",
      "Requirement already satisfied: scikit-learn>=1.0.2 in c:\\users\\nunes\\anaconda3\\lib\\site-packages (from mlxtend) (1.2.2)\n",
      "Requirement already satisfied: kiwisolver>=1.0.1 in c:\\users\\nunes\\anaconda3\\lib\\site-packages (from matplotlib>=3.0.0->mlxtend) (1.3.1)\n",
      "Requirement already satisfied: pillow>=6.2.0 in c:\\users\\nunes\\anaconda3\\lib\\site-packages (from matplotlib>=3.0.0->mlxtend) (8.4.0)\n",
      "Requirement already satisfied: python-dateutil>=2.7 in c:\\users\\nunes\\anaconda3\\lib\\site-packages (from matplotlib>=3.0.0->mlxtend) (2.8.2)\n",
      "Requirement already satisfied: cycler>=0.10 in c:\\users\\nunes\\anaconda3\\lib\\site-packages (from matplotlib>=3.0.0->mlxtend) (0.10.0)\n",
      "Requirement already satisfied: pyparsing>=2.2.1 in c:\\users\\nunes\\anaconda3\\lib\\site-packages (from matplotlib>=3.0.0->mlxtend) (3.0.4)\n",
      "Requirement already satisfied: six in c:\\users\\nunes\\anaconda3\\lib\\site-packages (from cycler>=0.10->matplotlib>=3.0.0->mlxtend) (1.16.0)\n",
      "Requirement already satisfied: pytz>=2017.3 in c:\\users\\nunes\\anaconda3\\lib\\site-packages (from pandas>=0.24.2->mlxtend) (2021.3)\n",
      "Requirement already satisfied: threadpoolctl>=2.0.0 in c:\\users\\nunes\\anaconda3\\lib\\site-packages (from scikit-learn>=1.0.2->mlxtend) (2.2.0)\n"
     ]
    },
    {
     "name": "stderr",
     "output_type": "stream",
     "text": [
      "C:\\Users\\nunes\\anaconda3\\lib\\site-packages\\mlxtend\\plotting\\decision_regions.py:315: UserWarning: No contour levels were found within the data range.\n",
      "  ax.contour(xx, yy, Z, cset.levels, **contour_kwargs)\n"
     ]
    },
    {
     "data": {
      "image/png": "[encoded data removed]",
      "text/plain": [
       "<Figure size 432x288 with 1 Axes>"
      ]
     },
     "metadata": {
      "needs_background": "light"
     },
     "output_type": "display_data"
    }
   ],
   "source": [
    "#testando a mesma plotagem acima, mas com o eixo de Valor FOB mais comprimido, \n",
    "#para tentar deixar as observações mais espaçadas. Como se pode ver, não deu muito certo, porque mesmo desconsiderando\n",
    "#as observações dos outliars (SP,SC,PR,RS), os demais estados exportam valores relativamente muito próximos, e quase sempre\n",
    "#dentro do mesmo Range de IDH\n",
    "\n",
    "import sys\n",
    "!{sys.executable} -m pip install mlxtend\n",
    "import numpy as np\n",
    "import matplotlib.pyplot as plt\n",
    "from mlxtend.plotting import plot_decision_regions\n",
    "\n",
    "# Definir as variáveis independentes (features) e a variável dependente (target)\n",
    "X = merged_data[['Valor FOB (US$)', 'Ano']].values\n",
    "y = merged_data['Range'].values\n",
    "\n",
    "# Instanciar o modelo de regressão logística\n",
    "logreg = LogisticRegression()\n",
    "\n",
    "# Treinar o modelo\n",
    "logreg.fit(X, y)\n",
    "\n",
    "# Plotar a regressão logística\n",
    "plot_decision_regions(X, y, clf=logreg)\n",
    "\n",
    "# Definir os limites dos eixos X e Y\n",
    "plt.xlim(X[:, 0].min() - 0.0001, X[:, 0].max() + 0.0001)\n",
    "plt.ylim(X[:, 1].min() - 0.2, X[:, 1].max() + 0.2)\n",
    "\n",
    "# Adicionar rótulos aos eixos X e Y\n",
    "plt.xlabel('Valor FOB (US$)')\n",
    "plt.ylabel('Ano')\n",
    "\n",
    "# Mostrar o gráfico\n",
    "plt.show(logreg)"
   ]
  },
  {
   "cell_type": "code",
   "execution_count": 13,
   "id": "26e0edc6",
   "metadata": {},
   "outputs": [
    {
     "name": "stderr",
     "output_type": "stream",
     "text": [
      "C:\\Users\\nunes\\anaconda3\\lib\\site-packages\\statsmodels\\tsa\\tsatools.py:142: FutureWarning: In a future version of pandas all arguments of concat except for the argument 'objs' will be keyword-only\n",
      "  x = pd.concat(x[::order], 1)\n"
     ]
    },
    {
     "data": {
      "text/html": [
       "<table class=\"simpletable\">\n",
       "<caption>OLS Regression Results</caption>\n",
       "<tr>\n",
       "  <th>Dep. Variable:</th>          <td>Range</td>      <th>  R-squared:         </th> <td>   0.076</td>\n",
       "</tr>\n",
       "<tr>\n",
       "  <th>Model:</th>                   <td>OLS</td>       <th>  Adj. R-squared:    </th> <td>   0.069</td>\n",
       "</tr>\n",
       "<tr>\n",
       "  <th>Method:</th>             <td>Least Squares</td>  <th>  F-statistic:       </th> <td>   10.56</td>\n",
       "</tr>\n",
       "<tr>\n",
       "  <th>Date:</th>             <td>Tue, 27 Jun 2023</td> <th>  Prob (F-statistic):</th> <td>3.94e-05</td>\n",
       "</tr>\n",
       "<tr>\n",
       "  <th>Time:</th>                 <td>10:26:51</td>     <th>  Log-Likelihood:    </th> <td> -181.12</td>\n",
       "</tr>\n",
       "<tr>\n",
       "  <th>No. Observations:</th>      <td>   259</td>      <th>  AIC:               </th> <td>   368.2</td>\n",
       "</tr>\n",
       "<tr>\n",
       "  <th>Df Residuals:</th>          <td>   256</td>      <th>  BIC:               </th> <td>   378.9</td>\n",
       "</tr>\n",
       "<tr>\n",
       "  <th>Df Model:</th>              <td>     2</td>      <th>                     </th>     <td> </td>   \n",
       "</tr>\n",
       "<tr>\n",
       "  <th>Covariance Type:</th>      <td>nonrobust</td>    <th>                     </th>     <td> </td>   \n",
       "</tr>\n",
       "</table>\n",
       "<table class=\"simpletable\">\n",
       "<tr>\n",
       "         <td></td>            <th>coef</th>     <th>std err</th>      <th>t</th>      <th>P>|t|</th>  <th>[0.025</th>    <th>0.975]</th>  \n",
       "</tr>\n",
       "<tr>\n",
       "  <th>const</th>           <td>  -30.6622</td> <td>   21.331</td> <td>   -1.437</td> <td> 0.152</td> <td>  -72.669</td> <td>   11.345</td>\n",
       "</tr>\n",
       "<tr>\n",
       "  <th>Valor FOB (US$)</th> <td> 7.542e-11</td> <td> 1.71e-11</td> <td>    4.398</td> <td> 0.000</td> <td> 4.17e-11</td> <td> 1.09e-10</td>\n",
       "</tr>\n",
       "<tr>\n",
       "  <th>Ano</th>             <td>    0.0159</td> <td>    0.011</td> <td>    1.507</td> <td> 0.133</td> <td>   -0.005</td> <td>    0.037</td>\n",
       "</tr>\n",
       "</table>\n",
       "<table class=\"simpletable\">\n",
       "<tr>\n",
       "  <th>Omnibus:</th>       <td>1683.550</td> <th>  Durbin-Watson:     </th> <td>   1.799</td>\n",
       "</tr>\n",
       "<tr>\n",
       "  <th>Prob(Omnibus):</th>  <td> 0.000</td>  <th>  Jarque-Bera (JB):  </th> <td>  32.295</td>\n",
       "</tr>\n",
       "<tr>\n",
       "  <th>Skew:</th>           <td> 0.073</td>  <th>  Prob(JB):          </th> <td>9.71e-08</td>\n",
       "</tr>\n",
       "<tr>\n",
       "  <th>Kurtosis:</th>       <td> 1.276</td>  <th>  Cond. No.          </th> <td>1.30e+12</td>\n",
       "</tr>\n",
       "</table><br/><br/>Notes:<br/>[1] Standard Errors assume that the covariance matrix of the errors is correctly specified.<br/>[2] The condition number is large, 1.3e+12. This might indicate that there are<br/>strong multicollinearity or other numerical problems."
      ],
      "text/plain": [
       "<class 'statsmodels.iolib.summary.Summary'>\n",
       "\"\"\"\n",
       "                            OLS Regression Results                            \n",
       "==============================================================================\n",
       "Dep. Variable:                  Range   R-squared:                       0.076\n",
       "Model:                            OLS   Adj. R-squared:                  0.069\n",
       "Method:                 Least Squares   F-statistic:                     10.56\n",
       "Date:                Tue, 27 Jun 2023   Prob (F-statistic):           3.94e-05\n",
       "Time:                        10:26:51   Log-Likelihood:                -181.12\n",
       "No. Observations:                 259   AIC:                             368.2\n",
       "Df Residuals:                     256   BIC:                             378.9\n",
       "Df Model:                           2                                         \n",
       "Covariance Type:            nonrobust                                         \n",
       "===================================================================================\n",
       "                      coef    std err          t      P>|t|      [0.025      0.975]\n",
       "-----------------------------------------------------------------------------------\n",
       "const             -30.6622     21.331     -1.437      0.152     -72.669      11.345\n",
       "Valor FOB (US$)  7.542e-11   1.71e-11      4.398      0.000    4.17e-11    1.09e-10\n",
       "Ano                 0.0159      0.011      1.507      0.133      -0.005       0.037\n",
       "==============================================================================\n",
       "Omnibus:                     1683.550   Durbin-Watson:                   1.799\n",
       "Prob(Omnibus):                  0.000   Jarque-Bera (JB):               32.295\n",
       "Skew:                           0.073   Prob(JB):                     9.71e-08\n",
       "Kurtosis:                       1.276   Cond. No.                     1.30e+12\n",
       "==============================================================================\n",
       "\n",
       "Notes:\n",
       "[1] Standard Errors assume that the covariance matrix of the errors is correctly specified.\n",
       "[2] The condition number is large, 1.3e+12. This might indicate that there are\n",
       "strong multicollinearity or other numerical problems.\n",
       "\"\"\""
      ]
     },
     "metadata": {},
     "output_type": "display_data"
    }
   ],
   "source": [
    "# Teste modelo variável dependente IDHM(Range) e variáveis independentes Exportações e Ano\n",
    "y = merged_data['Range']\n",
    "X = merged_data[['Valor FOB (US$)','Ano', ]]\n",
    "\n",
    "# Adicionar uma constante à matriz de variáveis independentes\n",
    "X = sm.add_constant(X)\n",
    "\n",
    "# Ajustar o modelo de regressão linear\n",
    "modelo = sm.OLS(y, X).fit()\n",
    "\n",
    "# Imprimir os resultados da regressão\n",
    "display(modelo.summary())\n"
   ]
  },
  {
   "cell_type": "code",
   "execution_count": 14,
   "id": "fbc96bd6",
   "metadata": {},
   "outputs": [
    {
     "data": {
      "text/plain": [
       "array([2.15357696, 1.65473974, 1.64143622, 1.63602112, 1.610887  ,\n",
       "       1.6044385 , 1.57164147, 1.57032118, 1.56645337, 1.56595445,\n",
       "       1.56429455, 1.56424082, 1.56393193, 1.56369513, 1.56356551,\n",
       "       1.56353191, 1.56348409, 1.56348104, 1.56347911, 1.563478  ,\n",
       "       1.56347201, 1.56345443, 1.56344006, 1.56343094, 1.56342995,\n",
       "       1.56341685, 1.56341657, 2.01188373, 1.60369392, 1.60120134,\n",
       "       1.60099258, 1.57600816, 1.56581067, 1.5561185 , 1.55471445,\n",
       "       1.5503935 , 1.5502702 , 1.54913412, 1.54842253, 1.54805963,\n",
       "       1.54803262, 1.54782011, 1.54772217, 1.54765848, 1.54756109,\n",
       "       1.54754106, 1.54753008, 1.54750549, 1.54750517, 1.54749697,\n",
       "       1.54749551, 1.54747713, 1.54747181, 2.22781946, 1.61206699,\n",
       "       1.59782215, 1.59110637, 1.56677907, 1.56132207, 1.54064904,\n",
       "       1.53835325, 1.53434996, 1.53398448, 1.53362035, 1.53351511,\n",
       "       1.53231491, 1.5322678 , 1.53193934, 1.53174051, 1.531648  ,\n",
       "       1.5316133 , 1.53159188, 1.53157158, 1.53155214, 1.53155122,\n",
       "       1.53154841, 1.53153452, 1.53152722, 1.53152615, 1.53152424,\n",
       "       2.26705861, 1.60408286, 1.58928495, 1.57491491, 1.56502054,\n",
       "       1.54311501, 1.52886486, 1.52591763, 1.52391955, 1.51923133,\n",
       "       1.51837796, 1.51694426, 1.51632509, 1.51604241, 1.51584224,\n",
       "       1.51565075, 1.51564489, 1.51561369, 1.51561094, 1.51560251,\n",
       "       1.51558466, 1.51558271, 1.51558267, 1.51558185, 1.51557944,\n",
       "       1.51557866, 1.51557742, 2.2315976 , 1.60107659, 1.58183615,\n",
       "       1.55821662, 1.55715224, 1.52824425, 1.52504183, 1.51258679,\n",
       "       1.50703605, 1.50271477, 1.50233988, 1.50097355, 1.50083061,\n",
       "       1.5002528 , 1.50002156, 1.49971283, 1.49971055, 1.49970016,\n",
       "       1.49969923, 1.4996422 , 1.49964061, 1.49963945, 1.4996384 ,\n",
       "       1.49963757, 1.49963404, 1.49963289, 1.49963207, 2.15963358,\n",
       "       1.56294755, 1.55118541, 1.53599852, 1.53161343, 1.53117752,\n",
       "       1.49825972, 1.48608189, 1.48581367, 1.48575323, 1.48556976,\n",
       "       1.48455869, 1.48452109, 1.48412825, 1.48383635, 1.48378954,\n",
       "       1.48376139, 1.4837403 , 1.48373146, 1.48372532, 1.48372451,\n",
       "       1.4837154 , 1.48371186, 1.4836901 , 2.11492325, 1.53858249,\n",
       "       1.52669531, 1.52167568, 1.5149629 , 1.49658568, 1.48071877,\n",
       "       1.4753199 , 1.47212613, 1.47022327, 1.46998131, 1.46983817,\n",
       "       1.46888099, 1.46827825, 1.46808436, 1.4679561 , 1.46783409,\n",
       "       1.46780207, 1.46779084, 1.46776421, 1.46775197, 1.46774795,\n",
       "       1.46774663, 1.46774662, 1.46774183, 1.46774142, 2.14327719,\n",
       "       1.5417451 , 1.52727046, 1.51526874, 1.49365833, 1.4912698 ,\n",
       "       1.48330788, 1.45854042, 1.45405844, 1.45402867, 1.45368872,\n",
       "       1.45312142, 1.45260744, 1.45253853, 1.45189076, 1.45182792,\n",
       "       1.45182049, 1.45181237, 1.45180562, 1.4518053 , 1.45180311,\n",
       "       1.45179705, 1.45179627, 1.45179601, 2.20018308, 1.53840211,\n",
       "       1.51159377, 1.51009612, 1.48815907, 1.48321172, 1.47696765,\n",
       "       1.43789691, 1.43781217, 1.43755057, 1.4372155 , 1.43721186,\n",
       "       1.43656423, 1.43655616, 1.43607944, 1.43592471, 1.43591613,\n",
       "       1.43590941, 1.43588674, 1.43587664, 1.43587269, 1.43585199,\n",
       "       1.4358513 , 1.43585077, 1.4358505 , 2.28953253, 1.53889554,\n",
       "       1.51180849, 1.49737835, 1.49283698, 1.47573894, 1.45721854,\n",
       "       1.45125845, 1.42197805, 1.42112676, 1.42066801, 1.42049071,\n",
       "       1.42033101, 1.42029645, 1.42011344, 1.4200715 , 1.4199657 ,\n",
       "       1.41994302, 1.41992816, 1.41992019, 1.41991467, 1.41991397,\n",
       "       1.41990981, 1.41990707, 1.41990537, 1.41990514])"
      ]
     },
     "execution_count": 14,
     "metadata": {},
     "output_type": "execute_result"
    }
   ],
   "source": [
    "# Checar a previsão do modelo\n",
    "modelo.predict()"
   ]
  },
  {
   "cell_type": "code",
   "execution_count": 15,
   "id": "e93b83c8",
   "metadata": {},
   "outputs": [
    {
     "data": {
      "text/plain": [
       "Text(0, 0.5, 'Range')"
      ]
     },
     "execution_count": 15,
     "metadata": {},
     "output_type": "execute_result"
    },
    {
     "data": {
      "image/png": "[encoded data removed]",
      "text/plain": [
       "<Figure size 432x288 with 1 Axes>"
      ]
     },
     "metadata": {
      "needs_background": "light"
     },
     "output_type": "display_data"
    }
   ],
   "source": [
    "plt.plot(merged_data['Valor FOB (US$)'],modelo.predict(),  'b-', label=\"Previsão\")\n",
    "plt.plot(merged_data['Valor FOB (US$)'], merged_data['Range'], 'ko', label='Dados')\n",
    "plt.legend()\n",
    "plt.xlabel('Valor FOB')\n",
    "plt.ylabel('Range')\n"
   ]
  },
  {
   "cell_type": "code",
   "execution_count": 16,
   "id": "77651df9",
   "metadata": {},
   "outputs": [
    {
     "data": {
      "image/png": "[encoded data removed]",
      "text/plain": [
       "<Figure size 864x576 with 4 Axes>"
      ]
     },
     "metadata": {
      "needs_background": "light"
     },
     "output_type": "display_data"
    }
   ],
   "source": [
    "#define figure size\n",
    "fig = plt.figure(figsize=(12,8))\n",
    "\n",
    "#produce regression plots\n",
    "fig = sm.graphics.plot_regress_exog(modelo, 'Valor FOB (US$)', fig=fig)"
   ]
  },
  {
   "cell_type": "code",
   "execution_count": 17,
   "id": "63b1f9fe",
   "metadata": {},
   "outputs": [
    {
     "data": {
      "image/png": "[encoded data removed]",
      "text/plain": [
       "<Figure size 576x432 with 1 Axes>"
      ]
     },
     "metadata": {
      "needs_background": "light"
     },
     "output_type": "display_data"
    }
   ],
   "source": [
    "from statsmodels.graphics.regressionplots import plot_leverage_resid2\n",
    "\n",
    "fig, ax = plt.subplots(figsize=(8, 6))\n",
    "fig = plot_leverage_resid2(modelo, ax=ax)"
   ]
  },
  {
   "cell_type": "code",
   "execution_count": 18,
   "id": "568e0fd2",
   "metadata": {},
   "outputs": [],
   "source": [
    "import statsmodels.stats.api as sms"
   ]
  },
  {
   "cell_type": "code",
   "execution_count": 21,
   "id": "151dd66b",
   "metadata": {
    "scrolled": true
   },
   "outputs": [
    {
     "data": {
      "text/plain": [
       "['Lagrange multiplier statistic', 'p-value', 'f-value', 'f p-value']"
      ]
     },
     "metadata": {},
     "output_type": "display_data"
    },
    {
     "data": {
      "text/plain": [
       "(25.969104822530344,\n",
       " 2.2955171290664583e-06,\n",
       " 14.26439792351304,\n",
       " 1.3383159230143979e-06)"
      ]
     },
     "metadata": {},
     "output_type": "display_data"
    }
   ],
   "source": [
    "name = [\"Lagrange multiplier statistic\", \"p-value\", \"f-value\", \"f p-value\"]\n",
    "test = sms.het_breuschpagan(modelo.resid, modelo.model.exog)\n",
    "display(name, test)"
   ]
  },
  {
   "cell_type": "code",
   "execution_count": 22,
   "id": "b7854194",
   "metadata": {},
   "outputs": [
    {
     "data": {
      "text/plain": [
       "1299448641222.4238"
      ]
     },
     "execution_count": 22,
     "metadata": {},
     "output_type": "execute_result"
    }
   ],
   "source": [
    "np.linalg.cond(modelo.model.exog)"
   ]
  }
 ],
 "metadata": {
  "kernelspec": {
   "display_name": "Python 3 (ipykernel)",
   "language": "python",
   "name": "python3"
  },
  "language_info": {
   "codemirror_mode": {
    "name": "ipython",
    "version": 3
   },
   "file_extension": ".py",
   "mimetype": "text/x-python",
   "name": "python",
   "nbconvert_exporter": "python",
   "pygments_lexer": "ipython3",
   "version": "3.9.7"
  }
 },
 "nbformat": 4,
 "nbformat_minor": 5
}
